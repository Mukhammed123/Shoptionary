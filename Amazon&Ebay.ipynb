{
 "cells": [
  {
   "cell_type": "code",
   "execution_count": 8,
   "metadata": {},
   "outputs": [
    {
     "name": "stdout",
     "output_type": "stream",
     "text": [
      "Enter your request in English, please.\n",
      "boxing gloves\n",
      "\n",
      "Ebay\n",
      "Average price: 53.792456666666666 usd\n",
      "Total number of people bought products from Ebay:  5085\n",
      "\n",
      "--------------------------------------------------------------\n",
      "\n",
      "Amazon\n",
      "Average rate:  4.499999999999999\n",
      "Average price: 80.68859999999991 usd\n",
      "Number of people voted:  46998\n"
     ]
    },
    {
     "data": {
      "image/png": "[encoded data removed]",
      "text/plain": [
       "<Figure size 432x288 with 1 Axes>"
      ]
     },
     "metadata": {
      "needs_background": "light"
     },
     "output_type": "display_data"
    },
    {
     "data": {
      "image/png": "[encoded data removed]",
      "text/plain": [
       "<Figure size 432x288 with 1 Axes>"
      ]
     },
     "metadata": {
      "needs_background": "light"
     },
     "output_type": "display_data"
    },
    {
     "data": {
      "image/png": "[encoded data removed]",
      "text/plain": [
       "<Figure size 432x288 with 1 Axes>"
      ]
     },
     "metadata": {
      "needs_background": "light"
     },
     "output_type": "display_data"
    }
   ],
   "source": [
    "'''\n",
    "This program requests an input from a user and searches user's needs in Amazon and Ebay.\n",
    "Then it prints number of purchases and average prices of both websites.\n",
    "Also, the program displays plots of prices and purchases in order to compare two online shops.\n",
    "\n",
    "Important Note!!!\n",
    "To run the program you have to download chromedriver\n",
    "'''\n",
    "import os,pathlib\n",
    "import matplotlib.pyplot as plt\n",
    "from selenium import webdriver\n",
    "from bs4 import BeautifulSoup as soup\n",
    "from selenium.webdriver.chrome.options import Options\n",
    "from selenium.webdriver.common.by import By\n",
    "from selenium.webdriver.support.ui import WebDriverWait\n",
    "from selenium.webdriver.support import expected_conditions as EC\n",
    "from selenium.common.exceptions import NoSuchElementException\n",
    "\n",
    "# User's request\n",
    "demand = input(\"Enter your request in English, please.\\n\")\n",
    "\n",
    "# Set options\n",
    "chrome_options = Options()\n",
    "chrome_options.add_argument(\"--headless\")\n",
    "\n",
    "# Getting driver's path\n",
    "cwd = pathlib.PureWindowsPath(os.getcwd()).as_posix() + \"/chromedriver.exe\"\n",
    "\n",
    "# Ebay\n",
    "# In case you do not want chrome to be visible just add this \", options=chrome_options\" next to cwd\n",
    "browser = webdriver.Chrome(cwd)#, options=chrome_options)\n",
    "browser.get(\"https://www.ebay.ca/\")\n",
    "search_bar = WebDriverWait(browser, 10).until(EC.element_to_be_clickable((By.XPATH, \"//input[@class='gh-tb ui-autocomplete-input']\")))\n",
    "for i in demand:\n",
    "    search_bar.send_keys(i)\n",
    "search_button = browser.find_element_by_xpath(\"//input[@class='btn btn-prim gh-spr']\").click()\n",
    "\n",
    "# Get html of the page\n",
    "html2 = browser.page_source\n",
    "sp2 = soup(html2, \"html.parser\")\n",
    "\n",
    "# Get pages\n",
    "pages2 = sp2.find(\"table\",{\"id\":\"Pagination\"})\n",
    "pages2 = pages2.find_all(\"a\")\n",
    "list_pages = []\n",
    "for i in pages2:\n",
    "    list_pages.append(i.get(\"href\"))\n",
    "list_pages.pop()\n",
    "list_pages.pop(0)\n",
    "# print(list_pages)\n",
    "# 1 usd = 1.31 cad\n",
    "\n",
    "flag = 0\n",
    "counter = 0\n",
    "count_pages = 1\n",
    "# for page in list_pages:\n",
    "#     counter += 1\n",
    "    \n",
    "result_list = sp2.find(\"ul\",{\"id\":\"ListViewInner\"})\n",
    "if result_list == None:\n",
    "    result_list = sp2.find(\"ul\",{\"id\":\"GalleryViewInner\"})\n",
    "    flag = 1\n",
    "    \n",
    "result_list = result_list.find_all(\"li\")\n",
    "prev = \"\"\n",
    "\n",
    "num_sold = []\n",
    "prices = []\n",
    "\n",
    "for page in list_pages:\n",
    "    browser.get(page)\n",
    "    WebDriverWait(browser, 10).until(EC.element_to_be_clickable((By.XPATH, \"//input[@class='gh-tb ui-autocomplete-input']\")))\n",
    "    html2 = browser.page_source\n",
    "    sp2 = soup(html2, \"html.parser\")\n",
    "    if count_pages > 5:\n",
    "        break\n",
    "    if flag == 1:\n",
    "        result_list = sp2.find(\"ul\",{\"id\":\"GalleryViewInner\"})\n",
    "        result_list = result_list.find_all(\"li\")\n",
    "        count_pages += 1\n",
    "#         print(\"count_pages: \", count_pages)\n",
    "#         print(result_list)\n",
    "        for item in result_list:\n",
    "            price = item.find(\"div\",{\"class\":\"prc conprices\"})\n",
    "            if price != None:\n",
    "#                 x = price.find(\"span\",{\"class\":\" amt\"})\n",
    "#                 if x != None:\n",
    "#                     for i in x:\n",
    "#                         if i != None and i.string != None:\n",
    "#                             print(\"X String: \",i.string)\n",
    "                        \n",
    "                price = price.find_all(\"span\")\n",
    "                if price != None:\n",
    "                    for i in price:\n",
    "                        if i != None and i.string != None and \"Buy\" not in i.string and \"to\" not in i.string and \"Previous\" not in i.string:\n",
    "                            prices.append(float(i.string[3:]))\n",
    "\n",
    "            sold = item.find(\"div\",{\"class\":\"hotness-GV bold\"})\n",
    "            if sold != None:\n",
    "#                 print(sold)\n",
    "                sold = item.find(\"div\",{\"class\":\"hotness-signal red\"})\n",
    "                if sold != None:\n",
    "                    if \"old\" in sold.string: \n",
    "#                         print(sold.string.split(\" \")[0][:-1])\n",
    "                        a = sold.string.split(\" \")[0]\n",
    "                        string = a.split(\"\\t\\t\\t\\t\\t\")[1][:-1].split(\",\")\n",
    "                        empty = \"\"\n",
    "                        for s in string:\n",
    "                            empty += s\n",
    "                        num_sold.append(int(empty))\n",
    "#                         prev = sold.string\n",
    "    else:\n",
    "        result_list = sp2.find(\"ul\",{\"id\":\"ListViewInner\"})\n",
    "        result_list = result_list.find_all(\"li\")\n",
    "        count_pages += 1\n",
    "        for item in result_list:\n",
    "\n",
    "            price = item.find(\"ul\",{\"class\":\"lvprices left space-zero conprices\"})\n",
    "            if price != None:\n",
    "                price = price.find(\"li\",{\"class\":\"lvprice prc\"})\n",
    "                if price != None:\n",
    "                    price = price.find(\"span\",{\"class\":\"prRange\"})\n",
    "                    if price != None:\n",
    "            #             print(price)\n",
    "                        for i in price:\n",
    "                            if i.string != None:\n",
    "                                counter += 1\n",
    "                                if counter == 2:\n",
    "    #                                 print(i.string)\n",
    "                                    prices.append(float(i.string))\n",
    "                                    counter = 0\n",
    "                                    break\n",
    "\n",
    "            sold = item.find(\"div\",{\"class\":\"hotness-signal red\"})\n",
    "            if sold != None:\n",
    "                if sold.string != prev and \"old\" in sold.string: \n",
    "    #                 print(sold.string.split(\" \")[0])\n",
    "                    a = sold.string.split(\" \")[0]\n",
    "                    string = a.split(\"\\t\\t\\t\\t\\t\")[1][:-1].split(\",\")\n",
    "                    empty = \"\"\n",
    "                    for s in string:\n",
    "                        empty += s\n",
    "                    num_sold.append(int(empty))\n",
    "                    prev = sold.string\n",
    "\n",
    "# print(prices)\n",
    "total_price2 = sum(prices)\n",
    "total_buy2 = sum(num_sold)\n",
    "average_price2 = total_price2/len(prices)\n",
    "print(\"\\nEbay\")\n",
    "print(\"Average price: {} usd\".format(average_price2*0.77))\n",
    "print(\"Total number of people bought products from Ebay: \",total_buy2)\n",
    "print(\"\\n--------------------------------------------------------------\\n\")\n",
    "# browser2.close()\n",
    "\n",
    "\n",
    "# Amazon\n",
    "# browser = webdriver.Chrome(cwd)#, options=chrome_options)\n",
    "browser.get(\"https://www.amazon.com/\")\n",
    "search_bar = WebDriverWait(browser, 10).until(EC.element_to_be_clickable((By.XPATH, \"//input[@id='twotabsearchtextbox']\")))\n",
    "for i in demand:\n",
    "    search_bar.send_keys(i)\n",
    "search_button = browser.find_element_by_class_name(\"nav-input\")\n",
    "search_button.click()\n",
    "\n",
    "\n",
    "\n",
    "pages = browser.page_source\n",
    "\n",
    "sp = soup(pages, \"html.parser\")\n",
    "\n",
    "bar = sp.find(\"div\", {\"class\":\"a-text-center\"})\n",
    "bar = bar.find_all(\"a\")\n",
    "pages = []\n",
    "for i in bar:\n",
    "    pages.append(\"https://www.amazon.com\"+i.get(\"href\"))\n",
    "pages.pop()\n",
    "\n",
    "# print(pages)\n",
    "counter = 0\n",
    "\n",
    "\n",
    "votes = []\n",
    "people = []\n",
    "ratings = []\n",
    "prices = []\n",
    "flag = 0\n",
    "price = link1 = img = rating = people_voted = \"\"\n",
    "for page in pages:\n",
    "    browser.get(page)\n",
    "    sp = soup(browser.page_source, \"html.parser\")\n",
    "    result_list = sp.find(\"div\",{\"class\":\"s-result-list s-search-results sg-row\"})\n",
    "    \n",
    "    people_voted = result_list.find_all(\"div\",{\"class\":\"a-row a-size-small\"})\n",
    "    \n",
    "    price = result_list.find_all(\"a\",{\"class\":\"a-size-base a-link-normal a-text-normal\"})\n",
    "    for index in price:\n",
    "        span = index.find_all(\"span\")\n",
    "        for i in span:\n",
    "            string = i.find(\"span\",{\"class\":\"a-offscreen\"})\n",
    "            if string != None:\n",
    "                prices.append(float(string.string[1:]))\n",
    "                break\n",
    "    \n",
    "    for index in people_voted:\n",
    "        span = index.find_all(\"span\")\n",
    "        for i in span:\n",
    "            if i.string != None:\n",
    "                people.append(i.string)\n",
    "\n",
    "\n",
    "#browser.close()\n",
    "\n",
    "for i in range(len(people)):\n",
    "    if i%2==0:\n",
    "        ratings.append(float(people[i].split(\" \")[0]))\n",
    "    else:\n",
    "        empty = \"\"\n",
    "        x = people[i].split(\",\")\n",
    "        for part in x:\n",
    "            empty += part\n",
    "        votes.append(int(empty))\n",
    "\n",
    "total_rating = sum(ratings)\n",
    "total_people = sum(votes)\n",
    "total_price = sum(prices)\n",
    "average_ratings = total_rating/len(ratings)\n",
    "average_price = total_price/len(prices)\n",
    "\n",
    "print(\"Amazon\")\n",
    "print(\"Average rate: \", average_ratings)\n",
    "print(\"Average price: {} usd\".format(average_price))\n",
    "print(\"Number of people voted: \",total_people)\n",
    "\n",
    "\n",
    "# Charts & Reasoning\n",
    "plt.bar(ratings,votes)\n",
    "plt.title(\"Amazon\")\n",
    "plt.ylabel(\"People voted\")\n",
    "plt.xlabel(\"Mark max: 5\")\n",
    "plt.show()\n",
    "\n",
    "\n",
    "a = []\n",
    "b = [\"Amazon\",\"Ebay\"]\n",
    "a.append(average_price)\n",
    "a.append(average_price2*0.77)\n",
    "plt.bar(b,a)\n",
    "plt.title(\"Prices\")\n",
    "plt.ylabel(\"Average Price in usd\")\n",
    "plt.show()\n",
    "\n",
    "a = []\n",
    "a.append(total_people)\n",
    "a.append(total_buy2)\n",
    "plt.bar(b,a)\n",
    "plt.title(\"Total Sold\")\n",
    "plt.ylabel(\"Number of People Bought\")\n",
    "plt.show()\n"
   ]
  },
  {
   "cell_type": "code",
   "execution_count": 17,
   "metadata": {},
   "outputs": [
    {
     "data": {
      "image/png": "[encoded data removed]",
      "text/plain": [
       "<Figure size 432x288 with 1 Axes>"
      ]
     },
     "metadata": {
      "needs_background": "light"
     },
     "output_type": "display_data"
    },
    {
     "data": {
      "image/png": "[encoded data removed]",
      "text/plain": [
       "<Figure size 432x288 with 1 Axes>"
      ]
     },
     "metadata": {
      "needs_background": "light"
     },
     "output_type": "display_data"
    }
   ],
   "source": [
    "a = []\n",
    "b = [\"Amazon\",\"Ebay\"]\n",
    "a.append(average_price)\n",
    "a.append(average_price2*0.77)\n",
    "plt.bar(b,a)\n",
    "plt.title(\"Prices\")\n",
    "plt.xlabel(\"Average price\")\n",
    "plt.show()\n",
    "\n",
    "a = []\n",
    "a.append(total_people)\n",
    "a.append(total_buy2)\n",
    "plt.bar(b,a)\n",
    "plt.title(\"Total Sold\")\n",
    "plt.ylabel(\"Number of people bought\")\n",
    "plt.show()"
   ]
  },
  {
   "cell_type": "code",
   "execution_count": 2,
   "metadata": {},
   "outputs": [
    {
     "name": "stdout",
     "output_type": "stream",
     "text": [
      "['https://www.ebay.ca/sch/i.html?_from=R40&_sacat=0&_nkw=T-shirts&rt=nc', 'https://www.ebay.ca/sch/i.html?_from=R40&_sacat=0&_nkw=T-shirts&_pgn=2&_skc=48&rt=nc', 'https://www.ebay.ca/sch/i.html?_from=R40&_sacat=0&_nkw=T-shirts&_pgn=3&_skc=96&rt=nc', 'https://www.ebay.ca/sch/i.html?_from=R40&_sacat=0&_nkw=T-shirts&_pgn=4&_skc=144&rt=nc', 'https://www.ebay.ca/sch/i.html?_from=R40&_sacat=0&_nkw=T-shirts&_pgn=5&_skc=192&rt=nc']\n"
     ]
    }
   ],
   "source": [
    "print(list_pages)"
   ]
  },
  {
   "cell_type": "code",
   "execution_count": 7,
   "metadata": {},
   "outputs": [
    {
     "name": "stdout",
     "output_type": "stream",
     "text": [
      "[]\n"
     ]
    }
   ],
   "source": [
    "print(price)"
   ]
  }
 ],
 "metadata": {
  "kernelspec": {
   "display_name": "Python 3",
   "language": "python",
   "name": "python3"
  },
  "language_info": {
   "codemirror_mode": {
    "name": "ipython",
    "version": 3
   },
   "file_extension": ".py",
   "mimetype": "text/x-python",
   "name": "python",
   "nbconvert_exporter": "python",
   "pygments_lexer": "ipython3",
   "version": "3.7.3"
  }
 },
 "nbformat": 4,
 "nbformat_minor": 2
}
